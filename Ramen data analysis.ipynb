import numpy as np 
import pandas as pd 
import os
import matplotlib.pyplot as plt
import seaborn as sns
from subprocess import check_output
print(check_output(["ls", "../input"]).decode("utf8"))

df = pd.read_csv("/kaggle/input/ramen-ratings-dataset/ramen-ratings.csv")

df.info()

df.columns

df.describe

#checking missing values
df.isnull().sum()

#check duplicate values
df.duplicated().sum()

df.fillna(0, inplace=True)

#histogram for the "review" column 
#histogram for a non-numerical variable, won't provide meaningful information
#histograms are primarily used for numerical data
plt.hist(df['Review #'], bins=20, edgecolor='black')
plt.xlabel('Review Scores')
plt.ylabel('Frequency')
plt.title('Distribution of Ramen Review Scores')
plt.show()

# we can create bar charts for categorical variables
#  countplot from the seaborn library used to create a bar chart to show number of reviews for each ramen brand
# order parameter is set to display the bars in descending order based on the number of reviews
plt.figure(figsize=(100, 25))
sns.countplot(x='Brand', data=df, order=df['Brand'].value_counts().index)
plt.xticks(rotation=90)
plt.xlabel('Brand')
plt.ylabel('Number of Ramen Reviews')
plt.title('Number of Reviews for Each Ramen Brand')
plt.show()

# for variety
plt.figure(figsize=(450, 55))
sns.countplot(x='Variety', data=df, order=df['Variety'].value_counts().index)
plt.xticks(rotation=90)
plt.xlabel('Variety')
plt.ylabel('Number of Ramen Reviews')
plt.title('Number of Reviews for Each Ramen Brand')
plt.show()

# boxplot from the seaborn library is used to create a box plot showing the distribution of review scores for each ramen brand
# box plot provides insights into the central tendency and spread of review scores for different categories
plt.figure(figsize=(500, 55))
sns.boxplot(x='Variety', y='Review #', data=df, order=df.groupby('Variety')['Review #'].median().sort_values(ascending=False).index)
plt.xticks(rotation=90)
plt.xlabel('Variety')
plt.ylabel('Review Scores')
plt.title('Distribution of Ramen Review Scores by Variety')
plt.show()

# for style
plt.figure(figsize=(450, 55))
sns.countplot(x='Style', data=df, order=df['Style'].value_counts().index)
plt.xticks(rotation=90)
plt.xlabel('Style')
plt.ylabel('Number of Ramen Reviews')
plt.title('Number of Reviews for Each Ramen Style')
plt.show()

# for country
plt.figure(figsize=(450, 55))
sns.countplot(x='Country', data=df, order=df['Country'].value_counts().index)
plt.xticks(rotation=90)
plt.xlabel('Country')
plt.ylabel('Number of Ramen Reviews')
plt.title('Number of Reviews for Each Ramen Country')
plt.show()

# for stars
plt.figure(figsize=(450, 55))
sns.countplot(x='Stars', data=df, order=df['Stars'].value_counts().index)
plt.xticks(rotation=90)
plt.xlabel('Stars')
plt.ylabel('Number of Ramen Reviews')
plt.title('Number of Reviews for Each Ramen Stars')
plt.show()

# for top10
plt.figure(figsize=(450, 55))
sns.countplot(x='Top Ten', data=df, order=df['Top Ten'].value_counts().index)
plt.xticks(rotation=90)
plt.xlabel('Top Ten')
plt.ylabel('Number of Ramen Reviews')
plt.title('Number of Reviews for Each Ramen Top Ten')
plt.show()

# heat plot for review vs brand
plt.figure(figsize=(150, 25))
heatmap_data = df.groupby(['Brand', 'Country'])['Review #'].mean().unstack()

sns.heatmap(heatmap_data, cmap='coolwarm', annot=True, fmt=".2f", linewidths=.7)
plt.xlabel('Country')
plt.ylabel('Brand')
plt.title('Average Review Scores by Brand and Country')
plt.show()

# Heatmap for Average Ratings by Style and Country
plt.figure(figsize=(28, 12))
heatmap_data_style_country = df.groupby(['Style', 'Country'])['Review #'].mean().unstack()
sns.heatmap(heatmap_data_style_country, cmap='YlGnBu', annot=True, fmt=".2f", linewidths=.5)
plt.xlabel('Country')
plt.ylabel('Style')
plt.title('Average Review Scores by Style and Country')
plt.show()

# Heatmap for Ratings by Brand and Variety:
plt.figure(figsize=(170, 50))
heatmap_data_brand_variety = df.pivot_table(index='Brand', columns='Variety', values='Review #', aggfunc='mean')
sns.heatmap(heatmap_data_brand_variety, cmap='viridis', annot=True, fmt=".2f", linewidths=.5)
plt.xlabel('Variety')
plt.ylabel('Brand')
plt.title('Average Review Scores by Brand and Variety')
plt.show()

# pie graph
# 'stars' is the column with ratings
rating_counts = df['Stars'].value_counts()

plt.figure(figsize=(200, 28))
plt.pie(rating_counts, labels=rating_counts.index, autopct='%1.1f%%', startangle=140, colors=['blue','green','red','skyblue','yellow'])
plt.title('Distribution of Ramen Ratings')
plt.show()

**A pair plot is a visual display of relationships between pairs of variables in a dataset. It includes scatter plots for each pair, histograms for individual variables, providing insights into patterns and correlations.

# Selecting only numerical columns for the pair plot
numerical_df = df.select_dtypes(include=['float64', 'int64'])

# Drop columns with constant values (e.g., if 'stars' is constant)
numerical_df = numerical_df.loc[:, numerical_df.nunique() > 1]

# Create a pair plot
sns.pairplot(numerical_df)
plt.suptitle('Pair Plot for Ramen Ratings', y=1.02)
plt.show()

*** predictive model will be in part 2 
