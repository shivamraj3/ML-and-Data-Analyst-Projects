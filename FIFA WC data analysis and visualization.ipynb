import numpy as np 
import pandas as pd 
import os
for dirname, _, filenames in os.walk('/kaggle/input'):
    for filename in filenames:
        print(os.path.join(dirname, filename))
import seaborn as sns
import matplotlib.pyplot as plt
from subprocess import check_output
print(check_output(["ls", "../input"]).decode("utf8"))

df= pd.read_csv("/kaggle/input/fifa-world-cup-2022/international_matches.csv")

df.info()

df.isnull().sum()

# fill the null value
df.fillna(0, inplace=True)

#check duplicate values
df.duplicated().sum()

df.shape

sns.set(style="darkgrid")

# Bar plot comparing home and away team scores
plt.figure(figsize=(150, 45))
sns.barplot(x="home_team", y="home_team_score", data=df, label="Home Team")
sns.barplot(x="away_team", y="away_team_score", data=df, label="Away Team", alpha=0.7)
plt.title("Comparison of Home and Away Team Scores")
plt.xlabel("Teams")
plt.ylabel("Scores")
plt.xticks(rotation=45, ha="right")
plt.legend()
plt.show()

# Scatter plot showing the relationship between FIFA rankings and total FIFA points for home teams
plt.figure(figsize=(10, 6))
sns.scatterplot(x="home_team_fifa_rank", y="home_team_total_fifa_points", data=df, hue="home_team_result")
plt.title("FIFA Rankings vs Total FIFA Points for Home Teams")
plt.xlabel("FIFA Rank")
plt.ylabel("Total FIFA Points")
plt.legend(title="Result")
plt.show()

#Box plot of goalkeeper scores for home and away teams
plt.figure(figsize=(10, 6))
sns.boxplot(x="home_team_result", y="home_team_goalkeeper_score", data=df)
plt.title("Goalkeeper Scores for Home Teams by Match Result")
plt.xlabel("Match Result")
plt.ylabel("Goalkeeper Score")
plt.show()

# Box plot of mean defense scores for home and away teams
plt.figure(figsize=(12, 6))
sns.boxplot(x="home_team_result", y="home_team_mean_defense_score", data=df)
plt.title("Mean Defense Scores for Home Teams by Match Result")
plt.xlabel("Match Result")
plt.ylabel("Mean Defense Score")
plt.show()

#Bar plot comparing FIFA rankings of different teams
plt.figure(figsize=(140, 45))
sns.barplot(x="home_team", y="home_team_fifa_rank", data=df, ci=None, label="Home Team", color="skyblue")
sns.barplot(x="away_team", y="away_team_fifa_rank", data=df, ci=None, label="Away Team", color="orange", alpha=0.7)
plt.title("FIFA Rankings of Each Team")
plt.xlabel("Teams")
plt.ylabel("FIFA Rank")
plt.xticks(rotation=45, ha="right")
plt.legend()
plt.show()

# Bar plot comparing total goals scored by different teams
plt.figure(figsize=(140, 45))
sns.barplot(x="home_team", y="home_team_score", data=df, ci=None, label="Home Team", color="skyblue")
sns.barplot(x="away_team", y="away_team_score", data=df, ci=None, label="Away Team", color="orange", alpha=0.7)
plt.title("Total Goals Scored by Each Team")
plt.xlabel("Teams")
plt.ylabel("Total Goals Scored")
plt.xticks(rotation=45, ha="right")
plt.legend()
plt.show()

# Heatmap showing the correlation matrix of selected features
selected_features = df[['home_team_fifa_rank', 'away_team_fifa_rank', 'home_team_score', 'away_team_score',
                         'home_team_goalkeeper_score', 'away_team_goalkeeper_score']]
correlation_matrix = selected_features.corr()
plt.figure(figsize=(10, 8))
sns.heatmap(correlation_matrix, annot=True, cmap="coolwarm", fmt=".2f", linewidths=.5)
plt.title("Correlation Matrix of Selected Features")
plt.show()

# Pair plot for selected numeric features
selected_numeric_features = df[['home_team_fifa_rank', 'away_team_fifa_rank', 'home_team_score', 'away_team_score',
                                'home_team_goalkeeper_score', 'away_team_goalkeeper_score']]
sns.pairplot(selected_numeric_features)
plt.suptitle("Pair Plot of Selected Numeric Features", y=1.02)
plt.show()

# Box plot comparing mean midfield scores for home and away teams by match result
plt.figure(figsize=(12, 6))
sns.boxplot(x="home_team_result", y="home_team_mean_midfield_score", data=df)
plt.title("Mean Midfield Scores for Home Teams by Match Result")
plt.xlabel("Match Result")
plt.ylabel("Mean Midfield Score")
plt.show()
