import numpy as np 
import pandas as pd 
import os
import matplotlib.pyplot as plt
import seaborn as sns

df = pd.read_csv("/kaggle/input/spam-or-ham/spam (or) ham.csv")

df.describe

df.shape

df.columns

df.info()

styled_df = df.head()
styled_df = styled_df.style.set_table_styles([
    {"selector": "th", "props": [("color", 'black'), ("background-color", "yellow")]}
])
styled_df

#checking missing values
df.isnull().sum()

#check duplicate values
df.duplicated().sum()

#remove Duplicate
df = df.drop_duplicates(keep = 'first')

from sklearn.preprocessing import LabelEncoder
encoder = LabelEncoder()
df['Class'] = encoder.fit_transform(df['Class'])

styled_df = df.head().style


# Modify the color and background color of the table headers (th)
styled_df.set_table_styles([
    {"selector": "th", "props": [("color", 'white'), ("background-color", "black"), ('font-weight', 'bold')]}
])

val = df['Class'].value_counts()
total = val.sum()

percentage_0 = (val[0] /total) * 100
percentage_1 = (val[1]/ total) *100

print('percentage of 0 :' ,percentage_0)
print('percentage of 1 :' ,percentage_1)

import matplotlib.pyplot as plt

# Sample data
values = [75, 25]
labels = ['not spam', 'spam']
colors = ['lightcoral', 'lightskyblue']
explode = (0.1, 0)  # Explode the 1st slice (i.e., 'ham')

# Create a figure and axis
fig, ax = plt.subplots()

# Create the pie chart with custom colors, labels, explode parameter, and shadow
wedges, texts, autotexts = ax.pie(
    x=values,  # Use 'x' instead of 'values'
    labels=labels,
    autopct='%0.2f%%',
    startangle=90,
    colors=colors,
    wedgeprops={'linewidth': 2, 'edgecolor': 'black'},
    explode=explode,  # Apply the explode parameter
    shadow=True  # Add shadow
)

# Customize text properties
for text in [texts, autotexts]:
    text.set_fontsize(14)

# Add a legend
ax.legend(wedges, labels, title='Email classification', loc='center', bbox_to_anchor=(1, 0, 0.5, 1))

# Set aspect ratio to be equal, ensuring that the pie is drawn as a circle
ax.axis('equal')

# Show the plot
plt.show()

# length and width distribution
df.hist(edgecolor = 'black', color = 'red', linewidth=1.2)
# color used to change bar color
graph1=plt.gcf()
graph1.set_size_inches(10,5)
plt.show()

print(" this shows that 25% of the emails recieved are spams")
