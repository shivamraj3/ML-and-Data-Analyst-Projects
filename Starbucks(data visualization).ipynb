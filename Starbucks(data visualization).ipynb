
import numpy as np 
import pandas as pd 
import os
import matplotlib.pyplot as plt
import seaborn as sns

df = pd.read_csv("/kaggle/input/starbucks/starbucks.csv")

df.info()

df.columns

df.describe

#checking missing values
df.isnull().sum()

#check duplicate values
df.duplicated().sum()

# fill the null value
df.fillna(0, inplace=True)

calories_by_category = df.groupby('Beverage_category')['Calories'].sum()

# Create a pie chart
plt.figure(figsize=(10, 8))
plt.pie(calories_by_category, labels=calories_by_category.index, autopct='%1.1f%%', startangle=90, colors=plt.cm.Paired.colors)
plt.title('Distribution of Calories by Beverage Category in Starbucks')
plt.show()

# Sum the Trans Fat for each category
trans_fat_by_category = df.groupby('Beverage_category')['Saturated Fat (g)'].sum()

# Create a pie chart
plt.figure(figsize=(15, 8))
plt.pie(trans_fat_by_category, labels=trans_fat_by_category.index, autopct='%1.1f%%', startangle=90, colors=plt.cm.Paired.colors)
plt.title('Distribution of Saturated Fat by Beverage Category in Starbucks')
plt.show()

# Sum the Sodium for each category
sodium_by_category = df.groupby('Beverage_category')[' Sodium (mg)'].sum()

# Create a pie chart
plt.figure(figsize=(10, 8))
plt.pie(sodium_by_category, labels=sodium_by_category.index, autopct='%1.1f%%', startangle=90, colors=plt.cm.Paired.colors)
plt.title('Distribution of Sodium by Beverage Category in Starbucks')
plt.show()

# Clean column names by removing leading/trailing spaces
df.columns = df.columns.str.strip()

# Sum the Total Carbohydrates for each category
carbs_by_category = df.groupby('Beverage_category')['Total Carbohydrates (g)'].sum()

# Create a pie chart
plt.figure(figsize=(10, 8))
plt.pie(carbs_by_category, labels=carbs_by_category.index, autopct='%1.1f%%', startangle=90, colors=plt.cm.Paired.colors)
plt.title('Distribution of Total Carbohydrates by Beverage Category in Starbucks')
plt.show()

# Clean column names by removing leading/trailing spaces
df.columns = df.columns.str.strip()

# Sum the Trans Fat for each category
trans_fat_by_category = df.groupby('Beverage_category')['Trans Fat (g)'].sum()

# Create a pie chart
plt.figure(figsize=(10, 8))
plt.pie(trans_fat_by_category, labels=trans_fat_by_category.index, autopct='%1.1f%%', startangle=90, colors=plt.cm.Paired.colors)
plt.title('Distribution of Trans Fat by Beverage Category in Starbucks')
plt.show()

# Clean column names by removing leading/trailing spaces
df.columns = df.columns.str.strip()

# Sum the Cholesterol for each category
cholesterol_by_category = df.groupby('Beverage_category')['Cholesterol (mg)'].sum()

# Create a pie chart
plt.figure(figsize=(10, 8))
plt.pie(cholesterol_by_category, labels=cholesterol_by_category.index, autopct='%1.1f%%', startangle=90, colors=plt.cm.Paired.colors)
plt.title('Distribution of Cholesterol by Beverage Category in Starbucks')
plt.show()

# Clean column names by removing leading/trailing spaces
df.columns = df.columns.str.strip()

# Sum the Dietary Fiber for each category
dietary_fiber_by_category = df.groupby('Beverage_category')['Dietary Fibre (g)'].sum()

# Create a pie chart
plt.figure(figsize=(10, 8))
plt.pie(dietary_fiber_by_category, labels=dietary_fiber_by_category.index, autopct='%1.1f%%', startangle=90, colors=plt.cm.Paired.colors)
plt.title('Distribution of Dietary Fiber by Beverage Category in Starbucks')
plt.show()

# Clean column names by removing leading/trailing spaces
df.columns = df.columns.str.strip()

# Sum the Sugars for each category
sugars_by_category = df.groupby('Beverage_category')['Sugars (g)'].sum()

# Create a pie chart
plt.figure(figsize=(10, 8))
plt.pie(sugars_by_category, labels=sugars_by_category.index, autopct='%1.1f%%', startangle=90, colors=plt.cm.Paired.colors)
plt.title('Distribution of Sugars by Beverage Category in Starbucks')
plt.show()

# Clean column names by removing leading/trailing spaces
df.columns = df.columns.str.strip()

# Sum the Protein for each category
protein_by_category = df.groupby('Beverage_category')['Protein (g)'].sum()

# Create a pie chart
plt.figure(figsize=(10, 8))
plt.pie(protein_by_category, labels=protein_by_category.index, autopct='%1.1f%%', startangle=90, colors=plt.cm.Paired.colors)
plt.title('Distribution of Protein by Beverage Category in Starbucks')
plt.show()

# Line plot, where each beverage is represented by a line that shows its nutritional information across different categories. The legend below the graph indicates the name of each beverage.
# useful for comparing the trends or patterns in nutritional values for different beverages

# Clean column names by removing leading/trailing spaces
df.columns = df.columns.str.strip()

# Select relevant columns
selected_columns = ['Beverage_category', 'Beverage', 'Vitamin A (% DV)', 'Vitamin C (% DV)', 'Calcium (% DV)', 'Iron (% DV)', 'Caffeine (mg)']
selected_data = df[selected_columns]

# Convert percentage columns to numeric (remove '%' and convert to float)
percentage_columns = ['Vitamin A (% DV)', 'Vitamin C (% DV)', 'Calcium (% DV)', 'Iron (% DV)']
for col in percentage_columns:
    selected_data[col] = selected_data[col].str.rstrip('%').astype('float') / 100.0

# Set the figure size
plt.figure(figsize=(15, 8))

# Plot nutritional information for each beverage
for index, row in selected_data.iterrows():
    plt.plot(percentage_columns, row[percentage_columns], label=row['Beverage'])

# Add index names under the graph in three columns
legend_labels = selected_data['Beverage'].tolist()
plt.legend(legend_labels, loc='upper center', bbox_to_anchor=(0.5, -0.15), ncol=3)

plt.title('Nutritional Information for Starbucks Beverages')
plt.xlabel('Nutritional Category')
plt.ylabel('Percentage')
plt.show()

# Clean column names by removing leading/trailing spaces
df.columns = df.columns.str.strip()

# Select relevant columns
selected_columns = ['Beverage_category', 'Beverage', 'Caffeine (mg)']
caffeine_data = df[selected_columns]

# Convert 'Caffeine (mg)' to numeric, handling errors by setting them to NaN
caffeine_data['Caffeine (mg)'] = pd.to_numeric(caffeine_data['Caffeine (mg)'], errors='coerce')

# Set the figure size
plt.figure(figsize=(15, 8))

# Bar chart for Caffeine category
plt.bar(caffeine_data['Beverage'], caffeine_data['Caffeine (mg)'], color='blue', edgecolor='black')

# Add labels and title
plt.title('Caffeine Content in Starbucks Beverages')
plt.xlabel('Beverage')
plt.ylabel('Caffeine (mg)')

# Rotate x-axis labels for better readability
plt.xticks(rotation=45, ha='right')

plt.show()

** the end **
